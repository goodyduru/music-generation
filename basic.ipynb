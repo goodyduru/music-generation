{
 "cells": [
  {
   "cell_type": "code",
   "execution_count": 1,
   "metadata": {
    "colab": {
     "base_uri": "https://localhost:8080/",
     "height": 34
    },
    "colab_type": "code",
    "id": "wFDBO_FH-B2m",
    "outputId": "acbb6705-5c3d-49d0-d1a9-11af87f8f1a2"
   },
   "outputs": [
    {
     "name": "stderr",
     "output_type": "stream",
     "text": [
      "Using TensorFlow backend.\n"
     ]
    }
   ],
   "source": [
    "from basic import *"
   ]
  },
  {
   "cell_type": "code",
   "execution_count": 2,
   "metadata": {
    "colab": {
     "base_uri": "https://localhost:8080/",
     "height": 2302
    },
    "colab_type": "code",
    "id": "1LnsqAlZDmjv",
    "outputId": "18d0857c-7f4e-44e2-ae38-6853768ac635"
   },
   "outputs": [
    {
     "name": "stdout",
     "output_type": "stream",
     "text": [
      "Processing ./data\\National_Anthems_-_Afghanistan.mid\n",
      "Processing ./data\\National_Anthems_-_Albania.mid\n",
      "Processing ./data\\National_Anthems_-_Algeria.mid\n",
      "Processing ./data\\National_Anthems_-_Andorra.mid\n",
      "Processing ./data\\National_Anthems_-_Angola.mid\n",
      "Processing ./data\\National_Anthems_-_Argentina.mid\n",
      "Processing ./data\\National_Anthems_-_Armenia.mid\n",
      "Processing ./data\\National_Anthems_-_Australia.mid\n",
      "Processing ./data\\National_Anthems_-_Austria.mid\n",
      "Processing ./data\\National_Anthems_-_Bahamas.mid\n",
      "Processing ./data\\National_Anthems_-_Bahrain.mid\n",
      "Processing ./data\\National_Anthems_-_Bangladesh.mid\n",
      "Processing ./data\\National_Anthems_-_Barbados.mid\n",
      "Processing ./data\\National_Anthems_-_Belgium.mid\n",
      "Processing ./data\\National_Anthems_-_Belize.mid\n",
      "Processing ./data\\National_Anthems_-_Bhutan.mid\n",
      "Processing ./data\\National_Anthems_-_Bolivia.mid\n",
      "Processing ./data\\National_Anthems_-_Botswana.mid\n",
      "Processing ./data\\National_Anthems_-_Brazil.mid\n",
      "Processing ./data\\National_Anthems_-_Brunei.mid\n",
      "Processing ./data\\National_Anthems_-_Bulgaria.mid\n",
      "Processing ./data\\National_Anthems_-_Burma.mid\n",
      "Processing ./data\\National_Anthems_-_Burundi.mid\n",
      "Processing ./data\\National_Anthems_-_Cambodia.mid\n",
      "Processing ./data\\National_Anthems_-_Cameroon.mid\n",
      "Processing ./data\\National_Anthems_-_Canada.mid\n",
      "Processing ./data\\National_Anthems_-_Chile.mid\n",
      "Processing ./data\\National_Anthems_-_China.mid\n",
      "Processing ./data\\National_Anthems_-_Colombia.mid\n",
      "Processing ./data\\National_Anthems_-_Costa_Rica.mid\n",
      "Processing ./data\\National_Anthems_-_Croatia.mid\n",
      "Processing ./data\\National_Anthems_-_Cuba.mid\n",
      "Processing ./data\\National_Anthems_-_Cyprus.mid\n",
      "Processing ./data\\National_Anthems_-_Czech_Republic.mid\n",
      "Processing ./data\\National_Anthems_-_Denmark.mid\n",
      "Processing ./data\\National_Anthems_-_Djibouti.mid\n",
      "Processing ./data\\National_Anthems_-_Dominican_Republic.mid\n",
      "Processing ./data\\National_Anthems_-_Ecuador.mid\n",
      "Processing ./data\\National_Anthems_-_El_Salvador.mid\n",
      "Processing ./data\\National_Anthems_-_Estonia.mid\n",
      "Processing ./data\\National_Anthems_-_Fiji.mid\n",
      "Processing ./data\\National_Anthems_-_Finland.mid\n",
      "Processing ./data\\National_Anthems_-_France.mid\n",
      "Processing ./data\\National_Anthems_-_Gambia.mid\n",
      "Processing ./data\\National_Anthems_-_Germany.mid\n",
      "Processing ./data\\National_Anthems_-_Ghana.mid\n",
      "Processing ./data\\National_Anthems_-_Greece.mid\n",
      "Processing ./data\\National_Anthems_-_Grenada.mid\n",
      "Processing ./data\\National_Anthems_-_Guam.mid\n",
      "Processing ./data\\National_Anthems_-_Guatemala.mid\n",
      "Processing ./data\\National_Anthems_-_Guyana.mid\n",
      "Processing ./data\\National_Anthems_-_Haiti.mid\n",
      "Processing ./data\\National_Anthems_-_Honduras.mid\n",
      "Processing ./data\\National_Anthems_-_Hong_Kong.mid\n",
      "Processing ./data\\National_Anthems_-_Hungary.mid\n",
      "Processing ./data\\National_Anthems_-_Iceland.mid\n",
      "Processing ./data\\National_Anthems_-_India.mid\n",
      "Processing ./data\\National_Anthems_-_Indonesia.mid\n",
      "Processing ./data\\National_Anthems_-_Iran.mid\n",
      "Processing ./data\\National_Anthems_-_Iraq.mid\n",
      "Processing ./data\\National_Anthems_-_Ireland.mid\n",
      "Processing ./data\\National_Anthems_-_Israel.mid\n",
      "Processing ./data\\National_Anthems_-_Italy.mid\n",
      "Processing ./data\\National_Anthems_-_Jamaica.mid\n",
      "Processing ./data\\National_Anthems_-_Japan.mid\n",
      "Processing ./data\\National_Anthems_-_Jordan.mid\n",
      "Processing ./data\\National_Anthems_-_Kenya.mid\n",
      "Processing ./data\\National_Anthems_-_Kuwait.mid\n",
      "Processing ./data\\National_Anthems_-_Laos.mid\n",
      "Processing ./data\\National_Anthems_-_Lebanon.mid\n",
      "Processing ./data\\National_Anthems_-_Lesotho.mid\n",
      "Processing ./data\\National_Anthems_-_Liberia.mid\n",
      "Processing ./data\\National_Anthems_-_Luxembourg.mid\n",
      "Processing ./data\\National_Anthems_-_Madagascar.mid\n",
      "Processing ./data\\National_Anthems_-_Malawi.mid\n",
      "Processing ./data\\National_Anthems_-_Malaysia.mid\n",
      "Processing ./data\\National_Anthems_-_Malta.mid\n",
      "Processing ./data\\National_Anthems_-_Mexico.mid\n",
      "Processing ./data\\National_Anthems_-_Moldova.mid\n",
      "Processing ./data\\National_Anthems_-_Monaco.mid\n",
      "Processing ./data\\National_Anthems_-_Mongolia.mid\n",
      "Processing ./data\\National_Anthems_-_Mozambique.mid\n",
      "Processing ./data\\National_Anthems_-_Nepal.mid\n",
      "Processing ./data\\National_Anthems_-_Netherlands.mid\n",
      "Processing ./data\\National_Anthems_-_New_Zealand.mid\n",
      "Processing ./data\\National_Anthems_-_Nicaragua.mid\n",
      "Processing ./data\\National_Anthems_-_Nigeria.mid\n",
      "Processing ./data\\National_Anthems_-_North_Korea.mid\n",
      "Processing ./data\\National_Anthems_-_Norway.mid\n",
      "Processing ./data\\National_Anthems_-_Oman.mid\n",
      "Processing ./data\\National_Anthems_-_Pakistan.mid\n",
      "Processing ./data\\National_Anthems_-_Panama.mid\n",
      "Processing ./data\\National_Anthems_-_Papua_New_Guinea.mid\n",
      "Processing ./data\\National_Anthems_-_Peru.mid\n",
      "Processing ./data\\National_Anthems_-_Philippines.mid\n",
      "Processing ./data\\National_Anthems_-_Poland.mid\n",
      "Processing ./data\\National_Anthems_-_Portugal.mid\n",
      "Processing ./data\\National_Anthems_-_Qatar.mid\n",
      "Processing ./data\\National_Anthems_-_Romania.mid\n",
      "Processing ./data\\National_Anthems_-_Russia.mid\n",
      "Processing ./data\\National_Anthems_-_San_Marino.mid\n",
      "Processing ./data\\National_Anthems_-_Saudi_Arabia.mid\n",
      "Processing ./data\\National_Anthems_-_Sierra_Leone.mid\n",
      "Processing ./data\\National_Anthems_-_Singapore.mid\n",
      "Processing ./data\\National_Anthems_-_Slovenia.mid\n",
      "Processing ./data\\National_Anthems_-_South_Africa.mid\n",
      "Processing ./data\\National_Anthems_-_South_Korea.mid\n",
      "Processing ./data\\National_Anthems_-_Spain.mid\n",
      "Processing ./data\\National_Anthems_-_Sri_Lanka.mid\n",
      "Processing ./data\\National_Anthems_-_St_Kitts_Nevis.mid\n",
      "Processing ./data\\National_Anthems_-_St_Vincent_The_Grenadines.mid\n",
      "Processing ./data\\National_Anthems_-_Suriname.mid\n",
      "Processing ./data\\National_Anthems_-_Swaziland.mid\n",
      "Processing ./data\\National_Anthems_-_Sweden.mid\n",
      "Processing ./data\\National_Anthems_-_Switzerland.mid\n",
      "Processing ./data\\National_Anthems_-_Syria.mid\n",
      "Processing ./data\\National_Anthems_-_Taiwan.mid\n",
      "Processing ./data\\National_Anthems_-_Tanzania.mid\n",
      "Processing ./data\\National_Anthems_-_Thailand.mid\n",
      "Processing ./data\\National_Anthems_-_Tonga.mid\n",
      "Processing ./data\\National_Anthems_-_Turkey.mid\n",
      "Processing ./data\\National_Anthems_-_Tuvalu.mid\n",
      "Processing ./data\\National_Anthems_-_Uganda.mid\n",
      "Processing ./data\\National_Anthems_-_Ukraine.mid\n",
      "Processing ./data\\National_Anthems_-_United_Arab_Emirates.mid\n",
      "Processing ./data\\National_Anthems_-_United_Kingdom.mid\n",
      "Processing ./data\\National_Anthems_-_United_States.mid\n",
      "Processing ./data\\National_Anthems_-_Uruguay.mid\n",
      "Processing ./data\\National_Anthems_-_Uzbekistan.mid\n",
      "Processing ./data\\National_Anthems_-_Venezuela.mid\n",
      "Processing ./data\\National_Anthems_-_Vietnam.mid\n",
      "Processing ./data\\National_Anthems_-_Yugoslavia.mid\n",
      "Processing ./data\\National_Anthems_-_Zaire.mid\n",
      "Processing ./data\\National_Anthems_-_Zambia.mid\n",
      "Processing ./data\\National_Anthems_-_Zimbabwe.mid\n",
      "Processing ./data\\Tunisia_-_Tunisia_National_Anthem.mid\n"
     ]
    }
   ],
   "source": [
    "notes, _ = get_notes()"
   ]
  },
  {
   "cell_type": "code",
   "execution_count": 3,
   "metadata": {
    "colab": {
     "base_uri": "https://localhost:8080/",
     "height": 50
    },
    "colab_type": "code",
    "id": "SmlbK4evDub9",
    "outputId": "0315fcfb-6505-47c1-bfa5-86f722ff9631"
   },
   "outputs": [
    {
     "name": "stdout",
     "output_type": "stream",
     "text": [
      "187\n",
      "(22635, 100, 1) (22635, 187)\n"
     ]
    }
   ],
   "source": [
    "n_vocab = len(set(notes))\n",
    "print(n_vocab)\n",
    "network_input, network_output = create_datset(notes, n_vocab)  \n",
    "print(network_input.shape, network_output.shape)"
   ]
  },
  {
   "cell_type": "code",
   "execution_count": 4,
   "metadata": {
    "colab": {},
    "colab_type": "code",
    "id": "vqTPbgZ1IxLW"
   },
   "outputs": [],
   "source": [
    "sequence, end = network_input.shape[1], network_input.shape[2]"
   ]
  },
  {
   "cell_type": "code",
   "execution_count": 5,
   "metadata": {
    "colab": {
     "base_uri": "https://localhost:8080/",
     "height": 574
    },
    "colab_type": "code",
    "id": "YV9MoDb2I0KB",
    "outputId": "f593092e-fee7-4354-800b-7e84c17b7253"
   },
   "outputs": [
    {
     "name": "stdout",
     "output_type": "stream",
     "text": [
      "_________________________________________________________________\n",
      "Layer (type)                 Output Shape              Param #   \n",
      "=================================================================\n",
      "input_1 (InputLayer)         (None, 100, 1)            0         \n",
      "_________________________________________________________________\n",
      "lstm_1 (LSTM)                (None, 100, 256)          264192    \n",
      "_________________________________________________________________\n",
      "dropout_1 (Dropout)          (None, 100, 256)          0         \n",
      "_________________________________________________________________\n",
      "lstm_2 (LSTM)                (None, 100, 512)          1574912   \n",
      "_________________________________________________________________\n",
      "dropout_2 (Dropout)          (None, 100, 512)          0         \n",
      "_________________________________________________________________\n",
      "lstm_3 (LSTM)                (None, 256)               787456    \n",
      "_________________________________________________________________\n",
      "dense_1 (Dense)              (None, 256)               65792     \n",
      "_________________________________________________________________\n",
      "dropout_3 (Dropout)          (None, 256)               0         \n",
      "_________________________________________________________________\n",
      "dense_2 (Dense)              (None, 187)               48059     \n",
      "=================================================================\n",
      "Total params: 2,740,411\n",
      "Trainable params: 2,740,411\n",
      "Non-trainable params: 0\n",
      "_________________________________________________________________\n",
      "None\n"
     ]
    }
   ],
   "source": [
    "model = create_model((sequence, end), n_vocab)\n",
    "print(model.summary())"
   ]
  },
  {
   "cell_type": "code",
   "execution_count": 6,
   "metadata": {
    "colab": {},
    "colab_type": "code",
    "id": "8phzExQyI3kM"
   },
   "outputs": [],
   "source": [
    "model.compile(loss='categorical_crossentropy', optimizer='rmsprop')"
   ]
  },
  {
   "cell_type": "code",
   "execution_count": 7,
   "metadata": {
    "colab": {},
    "colab_type": "code",
    "id": "hmichbLFKArn"
   },
   "outputs": [],
   "source": [
    "model.load_weights('./weights/weight.h5')"
   ]
  },
  {
   "cell_type": "code",
   "execution_count": 13,
   "metadata": {
    "colab": {
     "base_uri": "https://localhost:8080/",
     "height": 104
    },
    "colab_type": "code",
    "id": "PIGQYSPSKT7u",
    "outputId": "8ccf60ff-2090-4649-de44-50b442278e38"
   },
   "outputs": [
    {
     "name": "stdout",
     "output_type": "stream",
     "text": [
      "WARNING:tensorflow:From /usr/local/lib/python3.6/dist-packages/tensorflow/python/ops/math_ops.py:3066: to_int32 (from tensorflow.python.ops.math_ops) is deprecated and will be removed in a future version.\n",
      "Instructions for updating:\n",
      "Use tf.cast instead.\n"
     ]
    },
    {
     "data": {
      "text/plain": [
       "<keras.callbacks.History at 0x7fd187045a58>"
      ]
     },
     "execution_count": 13,
     "metadata": {
      "tags": []
     },
     "output_type": "execute_result"
    }
   ],
   "source": [
    "model.fit(network_input, network_output, batch_size=64, epochs=epochs, initial_epoch=current_epoch, callbacks=callbacks_list)"
   ]
  },
  {
   "cell_type": "code",
   "execution_count": 8,
   "metadata": {
    "colab": {},
    "colab_type": "code",
    "id": "bUO4HrViKp76"
   },
   "outputs": [],
   "source": [
    "output = predict(model, network_input, notes, n_vocab)"
   ]
  },
  {
   "cell_type": "code",
   "execution_count": 9,
   "metadata": {
    "colab": {},
    "colab_type": "code",
    "id": "5OisEAbJMXpI"
   },
   "outputs": [],
   "source": [
    "generate_mid(output, 'second.mid')"
   ]
  },
  {
   "cell_type": "code",
   "execution_count": null,
   "metadata": {
    "colab": {},
    "colab_type": "code",
    "id": "8fLGK-Xdhl2T"
   },
   "outputs": [],
   "source": []
  }
 ],
 "metadata": {
  "accelerator": "GPU",
  "colab": {
   "name": "rnn-music.ipynb",
   "provenance": [],
   "version": "0.3.2"
  },
  "kernelspec": {
   "display_name": "Python 3",
   "language": "python",
   "name": "python3"
  },
  "language_info": {
   "codemirror_mode": {
    "name": "ipython",
    "version": 3
   },
   "file_extension": ".py",
   "mimetype": "text/x-python",
   "name": "python",
   "nbconvert_exporter": "python",
   "pygments_lexer": "ipython3",
   "version": "3.6.5"
  }
 },
 "nbformat": 4,
 "nbformat_minor": 2
}
